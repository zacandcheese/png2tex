{
 "cells": [
  {
   "cell_type": "code",
   "execution_count": 1,
   "id": "690403f9",
   "metadata": {},
   "outputs": [],
   "source": [
    "from PIL import Image as im\n",
    "import pytesseract\n",
    "import numpy as np"
   ]
  },
  {
   "cell_type": "code",
   "execution_count": 21,
   "id": "09290ec3",
   "metadata": {},
   "outputs": [],
   "source": [
    "name = \"z\"\n",
    "figure_img = im.open(f\"imgs/macro_images/{name}.JPG\")\n",
    "name = \"2\"\n",
    "figure_img = im.open(f\"imgs/test_document-{name}.png\")\n",
    "#name = \"23\"\n",
    "#figure_img = im.open(f\"imgs/fig{name}.png\")\n",
    "img = np.array(figure_img)"
   ]
  },
  {
   "cell_type": "code",
   "execution_count": 22,
   "id": "d60ffb00",
   "metadata": {},
   "outputs": [
    {
     "data": {
      "text/plain": [
       "'a Wace Ba sip a eo ee.\\nre 230. oh ee eee el\\n\\n \\n\\nat! \" he, Me Pr yap PRL aD _\\na: Ae menace Pe am ree: a aye Cams ae\\n\\nnT\\n\\n \\n\\x0c'"
      ]
     },
     "execution_count": 22,
     "metadata": {},
     "output_type": "execute_result"
    }
   ],
   "source": [
    "text = pytesseract.image_to_string(img)\n",
    "text"
   ]
  }
 ],
 "metadata": {
  "kernelspec": {
   "display_name": "Python 3 (ipykernel)",
   "language": "python",
   "name": "python3"
  },
  "language_info": {
   "codemirror_mode": {
    "name": "ipython",
    "version": 3
   },
   "file_extension": ".py",
   "mimetype": "text/x-python",
   "name": "python",
   "nbconvert_exporter": "python",
   "pygments_lexer": "ipython3",
   "version": "3.7.5"
  }
 },
 "nbformat": 4,
 "nbformat_minor": 5
}
