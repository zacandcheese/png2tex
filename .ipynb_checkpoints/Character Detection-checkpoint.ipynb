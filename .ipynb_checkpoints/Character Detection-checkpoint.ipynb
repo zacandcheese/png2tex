{
 "cells": [
  {
   "cell_type": "code",
   "execution_count": 1,
   "id": "6d9abc30",
   "metadata": {},
   "outputs": [],
   "source": [
    "import numpy as np\n",
    "from PIL import Image as im\n",
    "from PIL import ImageOps as imo"
   ]
  },
  {
   "cell_type": "markdown",
   "id": "2124a8d6",
   "metadata": {},
   "source": [
    "# TO-DO\n",
    "<ol>\n",
    "    <li> Improve Markdown </li>\n",
    "    <li> Add Function Descriptions </li>\n",
    "    <li> Converts this to Cython or C </li>\n",
    "    <li> Subsample \n",
    "        <ul>\n",
    "            <li> Break Into N-Parts </li>\n",
    "            <li> Determine Straight Line or Bezine Curve </li>\n",
    "            <li> Create a list sequence of\n",
    "                <ul>\n",
    "                    <li> Straight </li>\n",
    "                    <li> Concave </li>\n",
    "                    <li> Convex </li>\n",
    "                </ul>\n",
    "            <li> Make Function to cycle through and determine similiarity </li>\n",
    "        </ul>\n",
    "    <li> Impliment Bkd trees to store all edges </li>\n",
    "</ol>"
   ]
  },
  {
   "cell_type": "code",
   "execution_count": 2,
   "id": "09a9bbe7",
   "metadata": {},
   "outputs": [],
   "source": [
    "def rot(old_coord):\n",
    "    # Input: Last relative coordinate\n",
    "    # Output: Next relative coordinate\n",
    "    last = old_coord\n",
    "    if   (last == (-1,-1)):\n",
    "        return    (-1, 0)\n",
    "    elif (last == (-1, 0)):\n",
    "        return    (-1, 1)\n",
    "    elif (last == (-1, 1)):\n",
    "        return    (0, 1)\n",
    "    elif (last == (0, 1)):\n",
    "        return    (1, 1)\n",
    "    elif (last == (1, 1)):\n",
    "        return    (1, 0)\n",
    "    elif (last == (1, 0)):\n",
    "        return    (1, -1)\n",
    "    elif (last == (1, -1)):\n",
    "        return    (0, -1)\n",
    "    else:\n",
    "        return    (-1, -1)"
   ]
  },
  {
   "cell_type": "code",
   "execution_count": 3,
   "id": "cf2ce27d",
   "metadata": {},
   "outputs": [],
   "source": [
    "def next_coord(coord, img, last_coord):\n",
    "    # Input: x,y coordinate of current pixel\n",
    "    #        numpy array of the image\n",
    "    #        last pixel seen\n",
    "    # Output: next pixel in clockwise order\n",
    "    (y,x) = coord\n",
    "    (last_y, last_x) = last_coord\n",
    "    rel_coord = (last_y - y, last_x - x)\n",
    "    for _ in range(7):\n",
    "        (diff_y, diff_x) = rot(rel_coord)\n",
    "        if (img[y + diff_y, x + diff_x] < 1):\n",
    "            return (y + diff_y, x + diff_x)\n",
    "        rel_coord = (diff_y, diff_x)\n",
    "    return None"
   ]
  },
  {
   "cell_type": "code",
   "execution_count": 4,
   "id": "edc4c573",
   "metadata": {},
   "outputs": [],
   "source": [
    "def outline(img, start):\n",
    "    # Input: numpy array of the image (square, black white, pad white around)\n",
    "    # Output of the pixels on the border of image\n",
    "    # in clockwise order\n",
    "    (height, weight) = img.shape\n",
    "    last = (0,0)\n",
    "    (offset_y, offset_x) = (-1, -1)\n",
    "    (y,x) = start\n",
    "    \n",
    "    # Find the side that has white on it\n",
    "    while(1):\n",
    "        (offset_y, offset_x) = rot((offset_y, offset_x))\n",
    "        if (img[y+offset_y, x+offset_x] == 1): #It is a white\n",
    "            last = (y+offset_y, x+offset_x)\n",
    "            break\n",
    "        \n",
    "    next_ = next_coord(start, img, last)\n",
    "    last = start\n",
    "    border = [start]\n",
    "    while(True):\n",
    "        if (next_ in border or next_ == None): # update to be next_ == start once bigger\n",
    "            break\n",
    "        else:\n",
    "            border.append(next_)\n",
    "            new_next = next_coord(next_, img, last)\n",
    "            last = next_\n",
    "            next_ = new_next\n",
    "            \n",
    "    return border"
   ]
  },
  {
   "cell_type": "code",
   "execution_count": 5,
   "id": "1b009bad",
   "metadata": {},
   "outputs": [],
   "source": [
    "def is_edge(img, coord):\n",
    "    (y,x) = coord\n",
    "    (height, width) = img.shape\n",
    "    if (x == 0 or x == width - 1):\n",
    "        return False\n",
    "    if (y == 0 or y == height - 1):\n",
    "        return False\n",
    "    \n",
    "    neighbor = max(\n",
    "        img[y-1,x-1], img[y-1,x], img[y-1, x+1],\n",
    "        img[y+1,x-1], img[y+1,x], img[y+1, x+1],\n",
    "        img[y,x+1],   img[y,x-1])\n",
    "    \n",
    "    return (neighbor == 1 and img[x,y] == 0)"
   ]
  },
  {
   "cell_type": "code",
   "execution_count": 6,
   "id": "510f188a",
   "metadata": {},
   "outputs": [],
   "source": [
    "def get_edges(data):\n",
    "    edges = []\n",
    "    for i, x in enumerate(data):\n",
    "        for j, y in enumerate(x):\n",
    "            if (is_edge(data, (i,j))):\n",
    "                edges.append((i,j))\n",
    "    return edges"
   ]
  },
  {
   "cell_type": "code",
   "execution_count": 7,
   "id": "29f1c673",
   "metadata": {},
   "outputs": [],
   "source": [
    "def pad_data(data):\n",
    "    (height, width) = data.shape\n",
    "    data[:1,:] = 1\n",
    "    data[(height-1):,:] = 1\n",
    "    data[:,:1] = 1\n",
    "    data[:, (width-1):] = 1\n",
    "    return data"
   ]
  },
  {
   "cell_type": "code",
   "execution_count": 8,
   "id": "e2ebf3bd",
   "metadata": {},
   "outputs": [],
   "source": [
    "def plot_border(border, size):\n",
    "    temp = np.zeros(shape=size)\n",
    "    for (y,x) in border:\n",
    "        temp[y,x] = 255\n",
    "\n",
    "    temp = temp.astype(np.uint8)\n",
    "    img = im.fromarray(temp)\n",
    "    img = img.resize((80,80), resample=im.NEAREST)\n",
    "    img.show()"
   ]
  },
  {
   "cell_type": "code",
   "execution_count": 9,
   "id": "60c0ccd1",
   "metadata": {},
   "outputs": [
    {
     "data": {
      "image/png": "[encoded data removed]",
      "text/plain": [
       "<PIL.Image.Image image mode=L size=32x32 at 0x7F3254C5B860>"
      ]
     },
     "metadata": {},
     "output_type": "display_data"
    }
   ],
   "source": [
    "# SQUARE\n",
    "square = np.zeros((32, 32), np.uint8)\n",
    "square = square + 1.0\n",
    "square[4:18, 4:18] = 0.0\n",
    "\n",
    "# CIRCLE\n",
    "xx, yy = np.mgrid[:32, :32]\n",
    "dist = (xx - 16) ** 2 + (yy - 16) ** 2\n",
    "circle = np.where(dist <= 64, 1, 0)\n",
    "circle = (dist <= 64).astype(np.uint8)\n",
    "circle = 1 - circle\n",
    "\n",
    "# FIGURE\n",
    "figure_img = im.open(\"imgs/fig23.png\")\n",
    "figure_img = imo.grayscale(figure_img)\n",
    "figure_img = figure_img.resize((32,32), resample=im.NEAREST)\n",
    "figure_img.show()\n",
    "figure = np.asarray(figure_img) / 255\n",
    "figure = figure.astype(np.uint8)"
   ]
  },
  {
   "cell_type": "code",
   "execution_count": 10,
   "id": "2d61d6b6",
   "metadata": {},
   "outputs": [
    {
     "data": {
      "image/png": "[encoded data removed]",
      "text/plain": [
       "<PIL.Image.Image image mode=L size=80x80 at 0x7F3254CC7A90>"
      ]
     },
     "metadata": {},
     "output_type": "display_data"
    }
   ],
   "source": [
    "data = square\n",
    "data = pad_data(data)\n",
    "edges = get_edges(data)\n",
    "best = []\n",
    "for edge in edges:\n",
    "    temp = outline(data, edge)\n",
    "    if (len(temp) > len(best)):\n",
    "        best = temp\n",
    "    if (len(best) > 0.3 * len(edges)):\n",
    "        break\n",
    "    \n",
    "border = best #outline(data, edges[1])\n",
    "plot_border(border, data.shape)"
   ]
  },
  {
   "cell_type": "code",
   "execution_count": 11,
   "id": "0f6ec22b",
   "metadata": {},
   "outputs": [
    {
     "data": {
      "image/png": "[encoded data removed]",
      "text/plain": [
       "<PIL.Image.Image image mode=L size=80x80 at 0x7F3254CC1AC8>"
      ]
     },
     "metadata": {},
     "output_type": "display_data"
    }
   ],
   "source": [
    "nparts = border[::len(border)//20]\n",
    "plot_border(nparts, data.shape)"
   ]
  },
  {
   "cell_type": "code",
   "execution_count": 12,
   "id": "60404e40",
   "metadata": {},
   "outputs": [],
   "source": [
    "def dot(coord1, coord2):\n",
    "    (x1, y1) = coord1\n",
    "    (x2, y2) = coord2\n",
    "    return (x1 * x2) + (y1 * y2)"
   ]
  },
  {
   "cell_type": "markdown",
   "id": "7693724d",
   "metadata": {},
   "source": [
    "The orthgonal projection of $\\vec{v}$ onto $\\vec{u}$\n",
    "\n",
    "$$\\text{proj}_{\\vec{u}}(\\vec{v}) = \\frac{\\vec{v}\\cdot \\vec{u}}{|\\vec{u}|^2}\\vec{u} = \\frac{\\vec{v}\\cdot \\vec{u}}{\\vec{u} \\cdot \\vec{u}}\\vec{u}$$\n",
    "\n",
    "An example will be projecting the point $v = (2,3)$\n",
    "onto the horizontal line described by $p \\rightarrow q$ with $p = (1,1)$ and $q = (5,1).$\n",
    "\n",
    "First normalize all the points with respect to $p$. $v' = (1,2), p' = (0,0), q' = (4,0).$ This creates the vector $\\vec{v} = v'$ and $\\vec{u} = q'$ \n",
    "\n",
    "$$\\text{proj}_{\\vec{u}}(\\vec{v}) = \\frac{4}{16} (4,0) = \\frac{1}{4}(4,0) = (1,0)$$\n"
   ]
  },
  {
   "cell_type": "code",
   "execution_count": 13,
   "id": "8f79fada",
   "metadata": {},
   "outputs": [
    {
     "data": {
      "text/plain": [
       "(1.0, 0.0)"
      ]
     },
     "execution_count": 13,
     "metadata": {},
     "output_type": "execute_result"
    }
   ],
   "source": [
    "p = (1,1)\n",
    "q = (5,1)\n",
    "v = (2,3)\n",
    "\n",
    "# normalize v and q w.r.t p\n",
    "vec_u = (q[0] - p[0], q[1] - p[1])\n",
    "vec_v = (v[0] - p[0], v[1] - p[1])\n",
    "\n",
    "scale = (dot(vec_v, vec_u) / dot(vec_u, vec_u))\n",
    "proj = (scale*vec_u[0], scale*vec_u[1])\n",
    "proj"
   ]
  },
  {
   "cell_type": "markdown",
   "id": "843852f1",
   "metadata": {},
   "source": [
    "# Calculate Distance to Line\n",
    "\n",
    "This gives a projection onto $\\vec{u}$ but this doesn't tell us if it is above (concave) or below (convex). I really just care about distance to the line. Thus using the equation from [here](https://en.wikipedia.org/wiki/Distance_from_a_point_to_a_line) "
   ]
  },
  {
   "cell_type": "code",
   "execution_count": 14,
   "id": "29b6ce17",
   "metadata": {},
   "outputs": [],
   "source": [
    "import math\n",
    "def distance(P1, P2, p):\n",
    "    (x0, y0) = p\n",
    "    (x1, y1) = P1\n",
    "    (x2, y2) = P2\n",
    "    \n",
    "    return abs((x2 - x1)*(y1 - y0) - (x1 - x0)*(y2 - y1)) / math.sqrt((x2 - x1)**2 + (y2 - y1)**2)"
   ]
  },
  {
   "cell_type": "markdown",
   "id": "3a944ed9",
   "metadata": {},
   "source": [
    "# Determine the Side\n",
    "\n",
    "Given three points $P_1,P_2,P_3$ the output of the $\\textit{line side test}$ is \"LEFT\" if the point $P_3$ is on the left of the ray $P_1 \\rightarrow P_2$, \"RIGHT\" if the point $P_3$ is on the right of ray $P_1 \\rightarrow P_2$, and \"ON\" if it on that ray.\n",
    "\n",
    "The algorithm is to construct the vectors $V_2 = P_2 - P_1$ and $V_3 = P_3 - P_1$. Then take the cross product of $V_2$ and $V_3$ and look at its value compared to 0.\n",
    "\n",
    "$$V_2 \\times V_3 = \\text{Signed area of Parallelogram (negative by right hand rule)} $$\n",
    "\n",
    "In the implementation <code> line_side_test </code>: <br>\n",
    "1 is returned if $P_3$ is \"LEFT\" of the ray $P_1 \\rightarrow P_2$, <br>\n",
    "-1 if \"RIGHT, <br>\n",
    "0 if \"ON\""
   ]
  },
  {
   "cell_type": "code",
   "execution_count": 15,
   "id": "c648ef04",
   "metadata": {},
   "outputs": [],
   "source": [
    "def minus(P1, P2):\n",
    "    return (P1[0] - P2[0], P1[1] - P2[1])\n",
    "\n",
    "def cross(P1, P2):\n",
    "    (x1, y1) = P1\n",
    "    (x2, y2) = P2\n",
    "    return (x1*y2) - (y1*x2)\n",
    "    \n",
    "def sign(x):\n",
    "    if (x<0):\n",
    "        return -1\n",
    "    elif (x>0):\n",
    "        return 1\n",
    "    else:\n",
    "        return 0\n",
    "    \n",
    "def line_side_test(P1, P2, P3):\n",
    "    return sign(cross(minus(P2, P1), minus(P3, P1)))"
   ]
  },
  {
   "cell_type": "code",
   "execution_count": 16,
   "id": "4416a365",
   "metadata": {},
   "outputs": [
    {
     "name": "stdout",
     "output_type": "stream",
     "text": [
      "-1 1.0\n"
     ]
    }
   ],
   "source": [
    "p1 = (0, 0)\n",
    "p2 = (0, 5)\n",
    "p3 = (1,0)\n",
    "\n",
    "print(line_side_test(p1, p2, p3), distance(p1, p2, p3))"
   ]
  },
  {
   "cell_type": "markdown",
   "id": "1fe10bf5",
   "metadata": {},
   "source": [
    "# Determine the Curvage of a Segment\n",
    "\n",
    "Given a list of points going from $P_1$ to $P_{n}$ in order. Determine the concavity of the arc of points. "
   ]
  },
  {
   "cell_type": "code",
   "execution_count": 17,
   "id": "b0ad57fd",
   "metadata": {},
   "outputs": [],
   "source": [
    "from enum import Enum, unique\n",
    "@unique\n",
    "class Curvage(Enum):\n",
    "    Concave  = 1\n",
    "    Line = 0\n",
    "    Convex  = -1\n",
    "\n",
    "class Geometry:\n",
    "    def __init__(self, val):\n",
    "        if (-0.5 < val < 0.5):\n",
    "            self.cur = Curvage(0)\n",
    "        else:\n",
    "            self.cur = Curvage(sign(val))\n",
    "        \n",
    "    def __sub__(self, other):\n",
    "        val1 = self.cur.value\n",
    "        val2 = other.cur.value\n",
    "        return abs(val2 - val1)\n",
    "    \n",
    "    def __str__(self):\n",
    "        return self.cur.name\n",
    "    \n",
    "def line_type(segment):\n",
    "    p1 = segment[0]\n",
    "    p2 = segment[-1]\n",
    "    x = sum(map(lambda p3: line_side_test(p1, p2, p3)  * distance(p1, p2, p3), segment))\n",
    "    val = x / len(segment) #average rise over run\n",
    "    return Geometry(val)"
   ]
  },
  {
   "cell_type": "markdown",
   "id": "06b8f110",
   "metadata": {},
   "source": [
    "# Determine the Direction of a Segment\n",
    "\n",
    "Given $P_1$ and $P_2$, I want to figure out which cardinal direction (**N, E, S, W, NE, SE, SW, NW**) it is closest to. \n",
    "$$\\text{angle (deg)} = \\arctan(y,x) * 180/\\pi$$\n",
    "\n",
    "<code> math.atan2(y,x) </code> returns the arc tangent of y/x, in rad. <br>\n",
    "The return value is between $(-\\pi, \\pi]$"
   ]
  },
  {
   "cell_type": "code",
   "execution_count": 18,
   "id": "6f5bd857",
   "metadata": {},
   "outputs": [],
   "source": [
    "from enum import Enum, unique\n",
    "@unique\n",
    "class Cardinal(Enum):\n",
    "    N  = 0\n",
    "    NE = 1\n",
    "    E  = 2\n",
    "    SE = 3\n",
    "    S  = 4\n",
    "    SW = 5\n",
    "    W  = 6\n",
    "    NW = 7\n",
    "\n",
    "class Compass:\n",
    "    def __init__(self, deg):\n",
    "        temp = round(deg / 45, 0) % 8\n",
    "        self.dir = Cardinal(temp)\n",
    "        \n",
    "    def __sub__(self, other):\n",
    "        val1 = self.dir.value\n",
    "        val2 = other.dir.value\n",
    "        return min((val1 - val2) % 8, (val2 - val1) % 8)\n",
    "    \n",
    "    def __str__(self):\n",
    "        return self.dir.name\n",
    "    \n",
    "def direction(P1, P2):\n",
    "    (x,y) = minus(P2, P1)\n",
    "    angle = math.atan2(x,y) * 180 / math.pi\n",
    "    if angle < 0:\n",
    "        angle = angle + 360 \n",
    "    return Compass(angle)\n",
    "    "
   ]
  },
  {
   "cell_type": "code",
   "execution_count": 19,
   "id": "affb1760",
   "metadata": {},
   "outputs": [
    {
     "name": "stdout",
     "output_type": "stream",
     "text": [
      "NE\n"
     ]
    }
   ],
   "source": [
    "p1 = (0,0)\n",
    "p2 = (1.288,1.53)\n",
    "print(direction(p1, p2))"
   ]
  },
  {
   "cell_type": "markdown",
   "id": "a22418e6",
   "metadata": {},
   "source": [
    "Given the border of points, I want to create a list of directions to recreate it. So I partition the border into 16 equal sized sections. Then for each segment we calculate the cardinal direction from the first to the last point. Then we also calculate the curvage of the point given the distance and side from the line."
   ]
  },
  {
   "cell_type": "code",
   "execution_count": 20,
   "id": "e2e9d5f8",
   "metadata": {},
   "outputs": [
    {
     "name": "stdout",
     "output_type": "stream",
     "text": [
      "Line E\n",
      "Line E\n",
      "Line E\n",
      "Line N\n",
      "Line N\n",
      "Line NW\n",
      "Line W\n",
      "Line W\n",
      "Line W\n",
      "Line S\n",
      "Line S\n",
      "Line S\n"
     ]
    }
   ],
   "source": [
    "#border = np.roll(border, 5)\n",
    "# old [y, x] coordinate system -> [x y] coordinate system\n",
    "borderxy = np.array([[x[1], x[0]] for x in border])\n",
    "segments = np.array_split(borderxy, 12)\n",
    "for segment in segments:\n",
    "    p1 = segment[0]\n",
    "    p2 = segment[-1]\n",
    "    print(line_type(segment), direction(p1, p2))"
   ]
  }
 ],
 "metadata": {
  "kernelspec": {
   "display_name": "Python 3",
   "language": "python",
   "name": "python3"
  },
  "language_info": {
   "codemirror_mode": {
    "name": "ipython",
    "version": 3
   },
   "file_extension": ".py",
   "mimetype": "text/x-python",
   "name": "python",
   "nbconvert_exporter": "python",
   "pygments_lexer": "ipython3",
   "version": "3.6.9"
  }
 },
 "nbformat": 4,
 "nbformat_minor": 5
}
