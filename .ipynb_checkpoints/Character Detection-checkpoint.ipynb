{
 "cells": [
  {
   "cell_type": "code",
   "execution_count": 1,
   "id": "49f78116",
   "metadata": {},
   "outputs": [],
   "source": [
    "import numpy as np\n",
    "from PIL import Image as im\n",
    "from PIL import ImageOps as imo"
   ]
  },
  {
   "cell_type": "markdown",
   "id": "b81ee276",
   "metadata": {},
   "source": [
    "# TO-DO\n",
    "<ol>\n",
    "    <li> Improve Markdown </li>\n",
    "    <li> Add Function Descriptions </li>\n",
    "    <li> Converts this to Cython or C </li>\n",
    "    <li> Subsample \n",
    "        <ul>\n",
    "            <li> Break Into N-Parts </li>\n",
    "            <li> Determine Straight Line or Bezine Curve </li>\n",
    "            <li> Create a list sequence of\n",
    "                <ul>\n",
    "                    <li> Straight </li>\n",
    "                    <li> Concave </li>\n",
    "                    <li> Convex </li>\n",
    "                </ul>\n",
    "            <li> Make Function to cycle through and determine similiarity </li>\n",
    "        </ul>\n",
    "    <li> Impliment Bkd trees to store all edges </li>\n",
    "</ol>"
   ]
  },
  {
   "cell_type": "code",
   "execution_count": 2,
   "id": "6e232081",
   "metadata": {},
   "outputs": [],
   "source": [
    "def rot(old_coord):\n",
    "    # Input: Last relative coordinate\n",
    "    # Output: Next relative coordinate\n",
    "    last = old_coord\n",
    "    if   (last == (-1,-1)):\n",
    "        return    (-1, 0)\n",
    "    elif (last == (-1, 0)):\n",
    "        return    (-1, 1)\n",
    "    elif (last == (-1, 1)):\n",
    "        return    (0, 1)\n",
    "    elif (last == (0, 1)):\n",
    "        return    (1, 1)\n",
    "    elif (last == (1, 1)):\n",
    "        return    (1, 0)\n",
    "    elif (last == (1, 0)):\n",
    "        return    (1, -1)\n",
    "    elif (last == (1, -1)):\n",
    "        return    (0, -1)\n",
    "    else:\n",
    "        return    (-1, -1)"
   ]
  },
  {
   "cell_type": "code",
   "execution_count": 3,
   "id": "c0bdcd48",
   "metadata": {},
   "outputs": [],
   "source": [
    "def next_coord(coord, img, last_coord):\n",
    "    # Input: x,y coordinate of current pixel\n",
    "    #        numpy array of the image\n",
    "    #        last pixel seen\n",
    "    # Output: next pixel in clockwise order\n",
    "    (y,x) = coord\n",
    "    (last_y, last_x) = last_coord\n",
    "    rel_coord = (last_y - y, last_x - x)\n",
    "    for _ in range(7):\n",
    "        (diff_y, diff_x) = rot(rel_coord)\n",
    "        if (img[y + diff_y, x + diff_x] < 1):\n",
    "            return (y + diff_y, x + diff_x)\n",
    "        rel_coord = (diff_y, diff_x)\n",
    "    return None"
   ]
  },
  {
   "cell_type": "code",
   "execution_count": 4,
   "id": "e571a377",
   "metadata": {},
   "outputs": [],
   "source": [
    "def outline(img, start):\n",
    "    # Input: numpy array of the image (square, black white, pad white around)\n",
    "    # Output of the pixels on the border of image\n",
    "    # in clockwise order\n",
    "    (height, weight) = img.shape\n",
    "    last = (0,0)\n",
    "    (offset_y, offset_x) = (-1, -1)\n",
    "    (y,x) = start\n",
    "    \n",
    "    # Find the side that has white on it\n",
    "    while(1):\n",
    "        (offset_y, offset_x) = rot((offset_y, offset_x))\n",
    "        if (img[y+offset_y, x+offset_x] == 1): #It is a white\n",
    "            last = (y+offset_y, x+offset_x)\n",
    "            break\n",
    "        \n",
    "    next_ = next_coord(start, img, last)\n",
    "    last = start\n",
    "    border = [start]\n",
    "    while(True):\n",
    "        if (next_ in border or next_ == None): # update to be next_ == start once bigger\n",
    "            break\n",
    "        else:\n",
    "            border.append(next_)\n",
    "            new_next = next_coord(next_, img, last)\n",
    "            last = next_\n",
    "            next_ = new_next\n",
    "            \n",
    "    return border"
   ]
  },
  {
   "cell_type": "code",
   "execution_count": 5,
   "id": "b4034a2c",
   "metadata": {},
   "outputs": [],
   "source": [
    "def is_edge(img, coord):\n",
    "    (y,x) = coord\n",
    "    (height, width) = img.shape\n",
    "    if (x == 0 or x == width - 1):\n",
    "        return False\n",
    "    if (y == 0 or y == height - 1):\n",
    "        return False\n",
    "    \n",
    "    neighbor = max(\n",
    "        img[y-1,x-1], img[y-1,x], img[y-1, x+1],\n",
    "        img[y+1,x-1], img[y+1,x], img[y+1, x+1],\n",
    "        img[y,x+1],   img[y,x-1])\n",
    "    \n",
    "    return (neighbor == 1 and img[x,y] == 0)"
   ]
  },
  {
   "cell_type": "code",
   "execution_count": 6,
   "id": "ef482917",
   "metadata": {},
   "outputs": [],
   "source": [
    "def get_edges(data):\n",
    "    edges = []\n",
    "    for i, x in enumerate(data):\n",
    "        for j, y in enumerate(x):\n",
    "            if (is_edge(data, (i,j))):\n",
    "                edges.append((i,j))\n",
    "    return edges"
   ]
  },
  {
   "cell_type": "code",
   "execution_count": 7,
   "id": "36f9cff5",
   "metadata": {},
   "outputs": [],
   "source": [
    "def pad_data(data):\n",
    "    (height, width) = data.shape\n",
    "    data[:1,:] = 1\n",
    "    data[(height-1):,:] = 1\n",
    "    data[:,:1] = 1\n",
    "    data[:, (width-1):] = 1\n",
    "    return data"
   ]
  },
  {
   "cell_type": "code",
   "execution_count": 8,
   "id": "ab3e95ef",
   "metadata": {},
   "outputs": [],
   "source": [
    "def plot_border(border, size):\n",
    "    temp = np.zeros(shape=size)\n",
    "    for (y,x) in border:\n",
    "        temp[y,x] = 255\n",
    "\n",
    "    temp = temp.astype(np.uint8)\n",
    "    img = im.fromarray(temp)\n",
    "    img = img.resize((80,80), resample=im.NEAREST)\n",
    "    img.show()"
   ]
  },
  {
   "cell_type": "code",
   "execution_count": 15,
   "id": "c88534ec",
   "metadata": {},
   "outputs": [
    {
     "data": {
      "image/png": "[encoded data removed]",
      "text/plain": [
       "<PIL.Image.Image image mode=L size=32x32 at 0x7F675E9BA940>"
      ]
     },
     "metadata": {},
     "output_type": "display_data"
    }
   ],
   "source": [
    "# SQUARE\n",
    "square = np.zeros((32, 32), np.uint8)\n",
    "square = square + 1.0\n",
    "square[4:32-4, 4:32-4] = 0.0\n",
    "\n",
    "# CIRCLE\n",
    "xx, yy = np.mgrid[:32, :32]\n",
    "dist = (xx - 16) ** 2 + (yy - 16) ** 2\n",
    "circle = np.where(dist <= 64, 1, 0)\n",
    "circle = (dist <= 64).astype(np.uint8)\n",
    "circle = 1 - circle\n",
    "\n",
    "# FIGURE\n",
    "figure_img = im.open(\"imgs/fig23.png\")\n",
    "figure_img = imo.grayscale(figure_img)\n",
    "figure_img = figure_img.resize((32,32), resample=im.NEAREST)\n",
    "figure_img.show()\n",
    "figure = np.asarray(figure_img) / 255\n",
    "figure = figure.astype(np.uint8)"
   ]
  },
  {
   "cell_type": "code",
   "execution_count": 16,
   "id": "74e508b9",
   "metadata": {},
   "outputs": [
    {
     "data": {
      "image/png": "[encoded data removed]",
      "text/plain": [
       "<PIL.Image.Image image mode=L size=80x80 at 0x7F675E9BA080>"
      ]
     },
     "metadata": {},
     "output_type": "display_data"
    }
   ],
   "source": [
    "data = figure\n",
    "data = pad_data(data)\n",
    "edges = get_edges(data)\n",
    "best = []\n",
    "for edge in edges:\n",
    "    temp = outline(data, edge)\n",
    "    if (len(temp) > len(best)):\n",
    "        best = temp\n",
    "    if (len(best) > 0.3 * len(edges)):\n",
    "        break\n",
    "    \n",
    "border = best #outline(data, edges[1])\n",
    "plot_border(border, data.shape)"
   ]
  }
 ],
 "metadata": {
  "kernelspec": {
   "display_name": "Python 3",
   "language": "python",
   "name": "python3"
  },
  "language_info": {
   "codemirror_mode": {
    "name": "ipython",
    "version": 3
   },
   "file_extension": ".py",
   "mimetype": "text/x-python",
   "name": "python",
   "nbconvert_exporter": "python",
   "pygments_lexer": "ipython3",
   "version": "3.6.9"
  }
 },
 "nbformat": 4,
 "nbformat_minor": 5
}
